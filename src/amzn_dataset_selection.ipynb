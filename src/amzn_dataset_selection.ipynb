{
 "cells": [
  {
   "cell_type": "code",
   "execution_count": 1,
   "outputs": [],
   "source": [
    "import pandas as pd\n",
    "import gzip\n",
    "import matplotlib.pyplot as plt"
   ],
   "metadata": {
    "collapsed": false,
    "pycharm": {
     "name": "#%%\n"
    }
   }
  },
  {
   "cell_type": "code",
   "execution_count": 2,
   "outputs": [],
   "source": [
    "fname = '../data/reviews_Movies_and_TV_5.json.gz'"
   ],
   "metadata": {
    "collapsed": false,
    "pycharm": {
     "name": "#%%\n"
    }
   }
  },
  {
   "cell_type": "code",
   "execution_count": 3,
   "outputs": [],
   "source": [
    "def parse(path):\n",
    "    \"\"\"parsing gzip file\"\"\"\n",
    "    g = gzip.open(path, 'rb')\n",
    "    for line in g:\n",
    "        yield eval(line)"
   ],
   "metadata": {
    "collapsed": false,
    "pycharm": {
     "name": "#%%\n"
    }
   }
  },
  {
   "cell_type": "code",
   "execution_count": 4,
   "outputs": [],
   "source": [
    "def get_df(path):\n",
    "    \"\"\"creating pandas.dataframe from json.gz file\"\"\"\n",
    "    i = 0\n",
    "    df = {}\n",
    "    for d in parse(path):\n",
    "        df[i] = d\n",
    "        i += 1\n",
    "    return pd.DataFrame.from_dict(df, orient='index')"
   ],
   "metadata": {
    "collapsed": false,
    "pycharm": {
     "name": "#%%\n"
    }
   }
  },
  {
   "cell_type": "code",
   "execution_count": 5,
   "outputs": [],
   "source": [
    "df = get_df(fname)"
   ],
   "metadata": {
    "collapsed": false,
    "pycharm": {
     "name": "#%%\n"
    }
   }
  },
  {
   "cell_type": "code",
   "execution_count": 6,
   "outputs": [],
   "source": [
    "# selecting columns of interest\n",
    "df = df[['reviewText', 'summary', 'overall']]"
   ],
   "metadata": {
    "collapsed": false,
    "pycharm": {
     "name": "#%%\n"
    }
   }
  },
  {
   "cell_type": "code",
   "execution_count": 7,
   "outputs": [],
   "source": [
    "# renaming the columns\n",
    "df.columns = ['review', 'summary', 'target']"
   ],
   "metadata": {
    "collapsed": false,
    "pycharm": {
     "name": "#%%\n"
    }
   }
  },
  {
   "cell_type": "code",
   "execution_count": 8,
   "outputs": [],
   "source": [
    "# converting type of target from flow to int\n",
    "df.loc[:, 'target'] = df['target'].astype(int)"
   ],
   "metadata": {
    "collapsed": false,
    "pycharm": {
     "name": "#%%\n"
    }
   }
  },
  {
   "cell_type": "code",
   "execution_count": 9,
   "outputs": [
    {
     "name": "stdout",
     "output_type": "stream",
     "text": [
      "<class 'pandas.core.frame.DataFrame'>\n",
      "Int64Index: 1697533 entries, 0 to 1697532\n",
      "Data columns (total 3 columns):\n",
      " #   Column   Dtype \n",
      "---  ------   ----- \n",
      " 0   review   object\n",
      " 1   summary  object\n",
      " 2   target   int64 \n",
      "dtypes: int64(1), object(2)\n",
      "memory usage: 51.8+ MB\n"
     ]
    }
   ],
   "source": [
    "df.info()"
   ],
   "metadata": {
    "collapsed": false,
    "pycharm": {
     "name": "#%%\n"
    }
   }
  },
  {
   "cell_type": "code",
   "execution_count": 10,
   "outputs": [
    {
     "data": {
      "text/plain": "                                                    review  \\\n1697528  wow $269.99 for the entire series on Blu Ray??...   \n1697529  Finally, the holy grail of tv-on-dvd boxsets i...   \n1697530  Could this be a true or I'm i dreaming batman ...   \n1697531  I've been a fan of the series since I was a yo...   \n1697532  People seriously need to wake up and realize t...   \n\n                                                   summary  target  \n1697528                      Way to Expensive!! WB = GREED       1  \n1697529  HOLY BAT-BOXSET, BATMAN... I never thought thi...       5  \n1697530  prayers have been answered because batman 60s ...       5  \n1697531                                        can't Wait!       5  \n1697532  The Price is Insane? People Really Need to Wak...       5  ",
      "text/html": "<div>\n<style scoped>\n    .dataframe tbody tr th:only-of-type {\n        vertical-align: middle;\n    }\n\n    .dataframe tbody tr th {\n        vertical-align: top;\n    }\n\n    .dataframe thead th {\n        text-align: right;\n    }\n</style>\n<table border=\"1\" class=\"dataframe\">\n  <thead>\n    <tr style=\"text-align: right;\">\n      <th></th>\n      <th>review</th>\n      <th>summary</th>\n      <th>target</th>\n    </tr>\n  </thead>\n  <tbody>\n    <tr>\n      <th>1697528</th>\n      <td>wow $269.99 for the entire series on Blu Ray??...</td>\n      <td>Way to Expensive!! WB = GREED</td>\n      <td>1</td>\n    </tr>\n    <tr>\n      <th>1697529</th>\n      <td>Finally, the holy grail of tv-on-dvd boxsets i...</td>\n      <td>HOLY BAT-BOXSET, BATMAN... I never thought thi...</td>\n      <td>5</td>\n    </tr>\n    <tr>\n      <th>1697530</th>\n      <td>Could this be a true or I'm i dreaming batman ...</td>\n      <td>prayers have been answered because batman 60s ...</td>\n      <td>5</td>\n    </tr>\n    <tr>\n      <th>1697531</th>\n      <td>I've been a fan of the series since I was a yo...</td>\n      <td>can't Wait!</td>\n      <td>5</td>\n    </tr>\n    <tr>\n      <th>1697532</th>\n      <td>People seriously need to wake up and realize t...</td>\n      <td>The Price is Insane? People Really Need to Wak...</td>\n      <td>5</td>\n    </tr>\n  </tbody>\n</table>\n</div>"
     },
     "execution_count": 10,
     "metadata": {},
     "output_type": "execute_result"
    }
   ],
   "source": [
    "df.tail()"
   ],
   "metadata": {
    "collapsed": false,
    "pycharm": {
     "name": "#%%\n"
    }
   }
  },
  {
   "cell_type": "code",
   "execution_count": 11,
   "outputs": [
    {
     "data": {
      "text/plain": "<Figure size 1008x576 with 1 Axes>",
      "image/png": "[encoded data removed]"
     },
     "metadata": {},
     "output_type": "display_data"
    }
   ],
   "source": [
    "# looking at the distribution of the number of characters per review\n",
    "fig = plt.figure(2, figsize=(14, 8))\n",
    "df['review'].str.len().hist(bins=2000)\n",
    "plt.xlim(0, 5000)\n",
    "plt.title('Characters per Review')\n",
    "plt.xticks(list(range(0, 5000, 200)))\n",
    "plt.show()"
   ],
   "metadata": {
    "collapsed": false,
    "pycharm": {
     "name": "#%%\n"
    }
   }
  },
  {
   "cell_type": "code",
   "execution_count": 12,
   "outputs": [],
   "source": [
    "# choosing reviews with equal or less than 280 characters per review because it's the cap on Twitter\n",
    "df = df[(df['review'].str.len() <= 280)]"
   ],
   "metadata": {
    "collapsed": false,
    "pycharm": {
     "name": "#%%\n"
    }
   }
  },
  {
   "cell_type": "code",
   "execution_count": 13,
   "outputs": [
    {
     "data": {
      "text/plain": "<Figure size 1008x576 with 1 Axes>",
      "image/png": "[encoded data removed]"
     },
     "metadata": {},
     "output_type": "display_data"
    }
   ],
   "source": [
    "# checking the number of characters per review after filtering through dataframe\n",
    "fig = plt.figure(2, figsize=(14, 8))\n",
    "df['review'].str.len().hist(bins=280)\n",
    "plt.xlim(0, 280)\n",
    "plt.title('Number of Characters per Review')\n",
    "plt.xticks(list(range(0, 280, 10)))\n",
    "plt.show()"
   ],
   "metadata": {
    "collapsed": false,
    "pycharm": {
     "name": "#%%\n"
    }
   }
  },
  {
   "cell_type": "code",
   "execution_count": 14,
   "outputs": [
    {
     "data": {
      "text/plain": "2     22690\n1     28854\n3     52187\n4    110204\n5    388919\nName: target, dtype: int64"
     },
     "execution_count": 14,
     "metadata": {},
     "output_type": "execute_result"
    }
   ],
   "source": [
    "# checking the class balance\n",
    "df['target'].value_counts().sort_values()"
   ],
   "metadata": {
    "collapsed": false,
    "pycharm": {
     "name": "#%%\n"
    }
   }
  },
  {
   "cell_type": "code",
   "execution_count": 15,
   "outputs": [
    {
     "data": {
      "text/plain": "                                              review  \\\n1  It was good but not as emotionally moving as t...   \n2  Don't get me wrong, Winkler is a wonderful cha...   \n3  Henry Winkler is very good in this twist on th...   \n4  This is one of the best Scrooge movies out.  H...   \n5  This has been a favorite movie of mine for a l...   \n\n                                        summary  target  \n1                        Good but not as moving       3  \n2         Winkler's Performance was ok at best!       3  \n3  It's an enjoyable twist on the classic story       5  \n4                              Best Scrooge yet       4  \n5                              Dickens updated.       5  ",
      "text/html": "<div>\n<style scoped>\n    .dataframe tbody tr th:only-of-type {\n        vertical-align: middle;\n    }\n\n    .dataframe tbody tr th {\n        vertical-align: top;\n    }\n\n    .dataframe thead th {\n        text-align: right;\n    }\n</style>\n<table border=\"1\" class=\"dataframe\">\n  <thead>\n    <tr style=\"text-align: right;\">\n      <th></th>\n      <th>review</th>\n      <th>summary</th>\n      <th>target</th>\n    </tr>\n  </thead>\n  <tbody>\n    <tr>\n      <th>1</th>\n      <td>It was good but not as emotionally moving as t...</td>\n      <td>Good but not as moving</td>\n      <td>3</td>\n    </tr>\n    <tr>\n      <th>2</th>\n      <td>Don't get me wrong, Winkler is a wonderful cha...</td>\n      <td>Winkler's Performance was ok at best!</td>\n      <td>3</td>\n    </tr>\n    <tr>\n      <th>3</th>\n      <td>Henry Winkler is very good in this twist on th...</td>\n      <td>It's an enjoyable twist on the classic story</td>\n      <td>5</td>\n    </tr>\n    <tr>\n      <th>4</th>\n      <td>This is one of the best Scrooge movies out.  H...</td>\n      <td>Best Scrooge yet</td>\n      <td>4</td>\n    </tr>\n    <tr>\n      <th>5</th>\n      <td>This has been a favorite movie of mine for a l...</td>\n      <td>Dickens updated.</td>\n      <td>5</td>\n    </tr>\n  </tbody>\n</table>\n</div>"
     },
     "execution_count": 15,
     "metadata": {},
     "output_type": "execute_result"
    }
   ],
   "source": [
    "df.head()"
   ],
   "metadata": {
    "collapsed": false,
    "pycharm": {
     "name": "#%%\n"
    }
   }
  },
  {
   "cell_type": "code",
   "execution_count": 16,
   "outputs": [],
   "source": [
    "# selecting 50k reviews from each class\n",
    "df = df.groupby(by='target', as_index=False).apply(lambda x: x.sample(min(50_000, len(x))))"
   ],
   "metadata": {
    "collapsed": false,
    "pycharm": {
     "name": "#%%\n"
    }
   }
  },
  {
   "cell_type": "code",
   "execution_count": 17,
   "outputs": [],
   "source": [
    "# resetting index\n",
    "df = df.reset_index().drop(['level_0', 'level_1'], axis=1)"
   ],
   "metadata": {
    "collapsed": false,
    "pycharm": {
     "name": "#%%\n"
    }
   }
  },
  {
   "cell_type": "code",
   "execution_count": 18,
   "outputs": [],
   "source": [
    "# shuffling\n",
    "df = df.sample(frac=1)"
   ],
   "metadata": {
    "collapsed": false,
    "pycharm": {
     "name": "#%%\n"
    }
   }
  },
  {
   "cell_type": "code",
   "execution_count": 19,
   "outputs": [
    {
     "data": {
      "text/plain": "<Figure size 1008x576 with 1 Axes>",
      "image/png": "[encoded data removed]"
     },
     "metadata": {},
     "output_type": "display_data"
    }
   ],
   "source": [
    "# looking at the distribution of the number of characters per review after resampling\n",
    "fig = plt.figure(2, figsize=(14, 8))\n",
    "df['review'].str.len().hist(bins=280)\n",
    "plt.xlim(0, 280)\n",
    "plt.title('Characters per Review')\n",
    "plt.xticks(list(range(0, 280, 10)))\n",
    "plt.show()"
   ],
   "metadata": {
    "collapsed": false,
    "pycharm": {
     "name": "#%%\n"
    }
   }
  },
  {
   "cell_type": "code",
   "execution_count": 22,
   "outputs": [
    {
     "data": {
      "text/plain": "2    22690\n1    28854\n4    50000\n3    50000\n5    50000\nName: target, dtype: int64"
     },
     "execution_count": 22,
     "metadata": {},
     "output_type": "execute_result"
    }
   ],
   "source": [
    "# checking class balance after resampling\n",
    "df.target.value_counts().sort_values()"
   ],
   "metadata": {
    "collapsed": false,
    "pycharm": {
     "name": "#%%\n"
    }
   }
  },
  {
   "cell_type": "code",
   "execution_count": 23,
   "outputs": [],
   "source": [
    "# saving selected data\n",
    "df.to_csv('../data/amzn_selected_data.csv', index=False)"
   ],
   "metadata": {
    "collapsed": false,
    "pycharm": {
     "name": "#%%\n"
    }
   }
  }
 ],
 "metadata": {
  "kernelspec": {
   "display_name": "Python 3",
   "language": "python",
   "name": "python3"
  },
  "language_info": {
   "codemirror_mode": {
    "name": "ipython",
    "version": 2
   },
   "file_extension": ".py",
   "mimetype": "text/x-python",
   "name": "python",
   "nbconvert_exporter": "python",
   "pygments_lexer": "ipython2",
   "version": "2.7.6"
  }
 },
 "nbformat": 4,
 "nbformat_minor": 0
}